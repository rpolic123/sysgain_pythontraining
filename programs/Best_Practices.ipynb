{
 "cells": [
  {
   "cell_type": "markdown",
   "id": "a9226a6a",
   "metadata": {},
   "source": [
    "# Best Practices for Writing Python Applications"
   ]
  },
  {
   "cell_type": "markdown",
   "id": "5dc07e9c",
   "metadata": {},
   "source": [
    "## 1. Code Organization and Structure"
   ]
  },
  {
   "cell_type": "code",
   "execution_count": null,
   "id": "5a51518e",
   "metadata": {},
   "outputs": [],
   "source": [
    "# Example of a well-organized project structure\n",
    "my_project/\n",
    "│\n",
    "├── src/\n",
    "│   ├── main.py\n",
    "│   ├── module1.py\n",
    "│   └── module2.py\n",
    "│\n",
    "├── tests/\n",
    "│   ├── test_module1.py\n",
    "│   └── test_module2.py\n",
    "│\n",
    "├── docs/\n",
    "│   └── index.md\n",
    "│\n",
    "├── requirements.txt\n",
    "└── README.md\n"
   ]
  },
  {
   "cell_type": "markdown",
   "id": "2ded2a69",
   "metadata": {},
   "source": [
    "## 2. Modular Design"
   ]
  },
  {
   "cell_type": "code",
   "execution_count": null,
   "id": "f4e9e297",
   "metadata": {},
   "outputs": [],
   "source": [
    "# src/module1.py\n",
    "def add(a, b):\n",
    "    return a + b\n",
    "\n",
    "def subtract(a, b):\n",
    "    return a - b\n",
    "\n",
    "# src/main.py\n",
    "import module1\n",
    "\n",
    "result_add = module1.add(5, 3)\n",
    "result_subtract = module1.subtract(5, 3)\n",
    "\n",
    "print(f\"Addition Result: {result_add}\")\n",
    "print(f\"Subtraction Result: {result_subtract}\")\n"
   ]
  },
  {
   "cell_type": "markdown",
   "id": "5d50b8db",
   "metadata": {},
   "source": [
    "## 3. Coding Standards"
   ]
  },
  {
   "cell_type": "code",
   "execution_count": null,
   "id": "5f2df7c6",
   "metadata": {},
   "outputs": [],
   "source": [
    "# Follow PEP 8 guidelines\n",
    "# Good:\n",
    "def calculate_area(radius):\n",
    "    return 3.14 * radius * radius\n",
    "\n",
    "# Bad:\n",
    "def calculateArea(radius):\n",
    "    return 3.14 * radius * radius\n"
   ]
  },
  {
   "cell_type": "markdown",
   "id": "a72a0dd0",
   "metadata": {},
   "source": [
    "## 4. Readability and Documentation"
   ]
  },
  {
   "cell_type": "code",
   "execution_count": null,
   "id": "dcdd3fc6",
   "metadata": {},
   "outputs": [],
   "source": [
    "# Example of using docstrings and comments\n",
    "def multiply(a, b):\n",
    "    \"\"\"\n",
    "    Multiply two numbers and return the result.\n",
    "    \n",
    "    Parameters:\n",
    "    a (int): The first number\n",
    "    b (int): The second number\n",
    "    \n",
    "    Returns:\n",
    "    int: The multiplication result\n",
    "    \"\"\"\n",
    "    return a * b\n",
    "\n",
    "# src/main.py\n",
    "result_multiply = multiply(5, 3)\n",
    "print(f\"Multiplication Result: {result_multiply}\")\n"
   ]
  },
  {
   "cell_type": "markdown",
   "id": "18c13b28",
   "metadata": {},
   "source": [
    "## 5. Error Handling and Logging"
   ]
  },
  {
   "cell_type": "code",
   "execution_count": null,
   "id": "90c98568",
   "metadata": {},
   "outputs": [],
   "source": [
    "import logging\n",
    "\n",
    "# Configure logging\n",
    "logging.basicConfig(level=logging.INFO, format='%(asctime)s - %(levelname)s - %(message)s')\n",
    "\n",
    "def divide(a, b):\n",
    "    try:\n",
    "        result = a / b\n",
    "        return result\n",
    "    except ZeroDivisionError as e:\n",
    "        logging.error(\"Attempted to divide by zero\")\n",
    "        return None\n",
    "\n",
    "# src/main.py\n",
    "result_divide = divide(10, 0)\n",
    "print(f\"Division Result: {result_divide}\")\n"
   ]
  },
  {
   "cell_type": "markdown",
   "id": "5d354756",
   "metadata": {},
   "source": [
    "## 6. Dependency Management"
   ]
  },
  {
   "cell_type": "code",
   "execution_count": null,
   "id": "73926eed",
   "metadata": {},
   "outputs": [],
   "source": [
    "# Example of a requirements.txt file\n",
    "requirements = \"\"\"\n",
    "flask==2.0.1\n",
    "requests==2.25.1\n",
    "numpy==1.21.0\n",
    "\"\n",
    "\n",
    "with open('requirements.txt', 'w') as f:\n",
    "    f.write(requirements)\n",
    "\n",
    "# Note: In a real notebook, you would run the following command in a shell:\n",
    "# !pip install -r requirements.txt\n"
   ]
  },
  {
   "cell_type": "markdown",
   "id": "18696741",
   "metadata": {},
   "source": [
    "## 7. Performance Optimization"
   ]
  },
  {
   "cell_type": "code",
   "execution_count": null,
   "id": "0296a472",
   "metadata": {},
   "outputs": [],
   "source": [
    "# Example of using list comprehension for better performance\n",
    "numbers = [1, 2, 3, 4, 5]\n",
    "squares = [x**2 for x in numbers]\n",
    "print(squares)\n"
   ]
  },
  {
   "cell_type": "markdown",
   "id": "738b46e4",
   "metadata": {},
   "source": [
    "## 8. Documentation"
   ]
  },
  {
   "cell_type": "code",
   "execution_count": null,
   "id": "37517517",
   "metadata": {},
   "outputs": [],
   "source": [
    "# Example using Sphinx for documentation\n",
    "# Create a Sphinx documentation\n",
    "# !sphinx-quickstart\n",
    "\n",
    "# Edit the source files and build the docs\n",
    "# !make html\n"
   ]
  },
  {
   "cell_type": "markdown",
   "id": "8e98de81",
   "metadata": {},
   "source": [
    "## 9. Version Control"
   ]
  },
  {
   "cell_type": "code",
   "execution_count": null,
   "id": "3e0917cd",
   "metadata": {},
   "outputs": [],
   "source": [
    "# Example using Git\n",
    "# Initialize a Git repository\n",
    "# !git init\n",
    "\n",
    "# Add files to the repository\n",
    "# !git add .\n",
    "\n",
    "# Commit changes\n",
    "# !git commit -m \"Initial commit\"\n",
    "\n",
    "# Create a new branch\n",
    "# !git checkout -b feature-branch\n",
    "\n",
    "# Merge changes\n",
    "# !git merge feature-branch\n"
   ]
  }
 ],
 "metadata": {},
 "nbformat": 4,
 "nbformat_minor": 5
}
