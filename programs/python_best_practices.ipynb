{
 "cells": [
  {
   "cell_type": "markdown",
   "id": "806c296f",
   "metadata": {},
   "source": [
    "# Python Coding Best Practices\n",
    "This notebook provides recommendations and code examples for writing better Python code."
   ]
  },
  {
   "cell_type": "markdown",
   "id": "050e6b0d",
   "metadata": {},
   "source": [
    "## 1. Use Meaningful Variable Names"
   ]
  },
  {
   "cell_type": "code",
   "execution_count": null,
   "id": "235f4ea3",
   "metadata": {},
   "outputs": [],
   "source": [
    "\n",
    "# Bad Example\n",
    "a = 10\n",
    "b = 20\n",
    "c = a + b\n",
    "print(c)\n",
    "\n",
    "# Good Example\n",
    "item_price = 10\n",
    "tax_amount = 20\n",
    "total_price = item_price + tax_amount\n",
    "print(total_price)\n"
   ]
  },
  {
   "cell_type": "markdown",
   "id": "7ba1e08b",
   "metadata": {},
   "source": [
    "## 2. Avoid Hardcoding Values"
   ]
  },
  {
   "cell_type": "code",
   "execution_count": null,
   "id": "82fcec02",
   "metadata": {},
   "outputs": [],
   "source": [
    "\n",
    "# Bad Example\n",
    "discounted_price = 100 - (100 * 0.1)\n",
    "\n",
    "# Good Example\n",
    "price = 100\n",
    "discount_rate = 0.1\n",
    "discounted_price = price - (price * discount_rate)\n",
    "print(discounted_price)\n"
   ]
  },
  {
   "cell_type": "markdown",
   "id": "553f5025",
   "metadata": {},
   "source": [
    "## 3. Use List Comprehensions"
   ]
  },
  {
   "cell_type": "code",
   "execution_count": null,
   "id": "9092a4de",
   "metadata": {},
   "outputs": [],
   "source": [
    "\n",
    "# Bad Example\n",
    "squares = []\n",
    "for i in range(10):\n",
    "    squares.append(i*i)\n",
    "\n",
    "# Good Example\n",
    "squares = [i*i for i in range(10)]\n",
    "print(squares)\n"
   ]
  },
  {
   "cell_type": "markdown",
   "id": "5275796b",
   "metadata": {},
   "source": [
    "## 4. Follow PEP8 Style Guide"
   ]
  },
  {
   "cell_type": "code",
   "execution_count": null,
   "id": "befc5c2b",
   "metadata": {},
   "outputs": [],
   "source": [
    "\n",
    "# Bad Example\n",
    "def myFunc(x,y):return x+y\n",
    "\n",
    "# Good Example\n",
    "def my_func(x, y):\n",
    "    return x + y\n",
    "\n",
    "print(my_func(2, 3))\n"
   ]
  },
  {
   "cell_type": "markdown",
   "id": "1dd2a1c4",
   "metadata": {},
   "source": [
    "## 5. Use Functions to Avoid Repetition"
   ]
  },
  {
   "cell_type": "code",
   "execution_count": null,
   "id": "478b14cb",
   "metadata": {},
   "outputs": [],
   "source": [
    "\n",
    "# Bad Example\n",
    "print(5 * 5)\n",
    "print(10 * 10)\n",
    "\n",
    "# Good Example\n",
    "def square(num):\n",
    "    return num * num\n",
    "\n",
    "print(square(5))\n",
    "print(square(10))\n"
   ]
  },
  {
   "cell_type": "markdown",
   "id": "780b3d27",
   "metadata": {},
   "source": [
    "## 6. Use Docstrings and Comments"
   ]
  },
  {
   "cell_type": "code",
   "execution_count": null,
   "id": "7f5f001d",
   "metadata": {},
   "outputs": [],
   "source": [
    "\n",
    "# Bad Example\n",
    "def add(x, y):\n",
    "    return x + y\n",
    "\n",
    "# Good Example\n",
    "def add(x, y):\n",
    "    \"\"\"Help documentation : Add two numbers and return the result.\"\"\"\n",
    "    return x + y\n",
    "\n",
    "# Commenting the usage\n",
    "result = add(5, 3)  # Adding 5 and 3\n",
    "print(result)\n"
   ]
  },
  {
   "cell_type": "markdown",
   "id": "e5ba9a9a",
   "metadata": {},
   "source": [
    "## 7. Handle Exceptions Properly"
   ]
  },
  {
   "cell_type": "code",
   "execution_count": null,
   "id": "9747068f",
   "metadata": {},
   "outputs": [],
   "source": [
    "\n",
    "# Bad Example\n",
    "num = int(input(\"Enter a number: \"))\n",
    "print(10 / num)\n",
    "\n",
    "# Good Example\n",
    "try:\n",
    "    num = int(input(\"Enter a number: \"))\n",
    "    print(10 / num)\n",
    "except ValueError:\n",
    "    print(\"Please enter a valid integer.\")\n",
    "except ZeroDivisionError:\n",
    "    print(\"Cannot divide by zero.\")\n"
   ]
  },
  {
   "cell_type": "markdown",
   "id": "b07e4a1f",
   "metadata": {},
   "source": [
    "## 8. Use 'with' for File Operations"
   ]
  },
  {
   "cell_type": "code",
   "execution_count": null,
   "id": "236745ab",
   "metadata": {},
   "outputs": [],
   "source": [
    "\n",
    "# Bad Example\n",
    "f = open(\"sample.txt\", \"w\")\n",
    "f.write(\"Hello\")\n",
    "f.close()\n",
    "\n",
    "# Good Example\n",
    "with open(\"sample.txt\", \"w\") as f:\n",
    "    f.write(\"Hello\")\n",
    "\n"
   ]
  },
  {
   "cell_type": "markdown",
   "id": "333aaf3f",
   "metadata": {},
   "source": [
    "## 9. Use Type Hints for Better Readability"
   ]
  },
  {
   "cell_type": "code",
   "execution_count": null,
   "id": "8672ea4f",
   "metadata": {},
   "outputs": [],
   "source": [
    "\n",
    "# Without Type Hints\n",
    "def multiply(x, y):\n",
    "    return x * y\n",
    "\n",
    "# With Type Hints\n",
    "def multiply(x: int, y: int) -> int:\n",
    "    return x * y\n",
    "\n",
    "print(multiply(4, 5))\n"
   ]
  },
  {
   "cell_type": "markdown",
   "id": "6a8a00a8",
   "metadata": {},
   "source": [
    "## 10. Use f-strings for String Formatting"
   ]
  },
  {
   "cell_type": "code",
   "execution_count": null,
   "id": "e85975c6",
   "metadata": {},
   "outputs": [],
   "source": [
    "\n",
    "# Bad Example\n",
    "name = \"Alice\"\n",
    "age = 30\n",
    "print(\"My name is \" + name + \" and I am \" + str(age) + \" years old.\")\n",
    "\n",
    "# Good Example\n",
    "print(f\"My name is {name} and I am {age} years old.\")\n"
   ]
  },
  {
   "cell_type": "markdown",
   "id": "4ec7c934",
   "metadata": {},
   "source": [
    "## 11. Avoid Mutable Default Arguments"
   ]
  },
  {
   "cell_type": "code",
   "execution_count": null,
   "id": "9ecc2223",
   "metadata": {},
   "outputs": [],
   "source": [
    "\n",
    "# Bad Example\n",
    "def append_to_list(value, my_list=[]):\n",
    "    my_list.append(value)\n",
    "    return my_list\n",
    "\n",
    "print(append_to_list(1))\n",
    "print(append_to_list(2))  # Unexpected behavior\n",
    "\n",
    "# Good Example\n",
    "def append_to_list(value, my_list=None):\n",
    "    if my_list is None:\n",
    "        my_list = []\n",
    "    my_list.append(value)\n",
    "    return my_list\n",
    "\n",
    "print(append_to_list(1))\n",
    "print(append_to_list(2))  # Works correctly\n"
   ]
  },
  {
   "cell_type": "markdown",
   "id": "e76e9ba4",
   "metadata": {},
   "source": [
    "## 12. Use enumerate Instead of range(len())"
   ]
  },
  {
   "cell_type": "code",
   "execution_count": null,
   "id": "db06dfbb",
   "metadata": {},
   "outputs": [
    {
     "name": "stdout",
     "output_type": "stream",
     "text": [
      "0 apple\n",
      "1 banana\n",
      "2 cherry\n"
     ]
    }
   ],
   "source": [
    "\n",
    "# Bad Example\n",
    "items = ['apple', 'banana', 'cherry']\n",
    "for i in range(len(items)):\n",
    "    print(i, items[i])\n",
    "\n",
    "\n",
    "# Good Example\n",
    "for i, item in enumerate(items):\n",
    "    print(i, item)\n",
    "\n"
   ]
  },
  {
   "cell_type": "markdown",
   "id": "3a5b62c9",
   "metadata": {},
   "source": [
    "## 13. Use zip to Iterate Over Multiple Sequences"
   ]
  },
  {
   "cell_type": "code",
   "execution_count": 3,
   "id": "9b6b1ea8",
   "metadata": {},
   "outputs": [
    {
     "name": "stdout",
     "output_type": "stream",
     "text": [
      "Alice 25\n",
      "Bob 30\n",
      "Charlie 35\n",
      "Alice 25\n",
      "Bob 30\n",
      "Charlie 35\n"
     ]
    }
   ],
   "source": [
    "\n",
    "# Bad Example\n",
    "names = [\"Alice\", \"Bob\", \"Charlie\"]\n",
    "ages = [25, 30, 35]\n",
    "for i in range(len(names)):\n",
    "    print(names[i], ages[i])\n",
    "\n",
    "# Good Example\n",
    "for name, age in zip(names, ages):\n",
    "    print(name, age)\n"
   ]
  },
  {
   "cell_type": "markdown",
   "id": "8b3c0525",
   "metadata": {},
   "source": [
    "## 14. Use Generators for Large Data Processing"
   ]
  },
  {
   "cell_type": "code",
   "execution_count": null,
   "id": "81b73ccf",
   "metadata": {},
   "outputs": [],
   "source": [
    "\n",
    "# Bad Example (uses more memory)\n",
    "squares = [i * i for i in range(1000000)]\n",
    "print(squares[:5])\n",
    "\n",
    "# Good Example (uses generator)\n",
    "def generate_squares(n):\n",
    "    for i in range(n):\n",
    "        yield i * i\n",
    "\n",
    "squares = generate_squares(1000000)\n",
    "for _ in range(5):\n",
    "    print(next(squares))\n"
   ]
  },
  {
   "cell_type": "markdown",
   "id": "abc19eee",
   "metadata": {},
   "source": [
    "## 15. Use Context Managers Beyond File Handling"
   ]
  },
  {
   "cell_type": "code",
   "execution_count": null,
   "id": "fed892c3",
   "metadata": {},
   "outputs": [],
   "source": [
    "\n",
    "from threading import Lock\n",
    "\n",
    "# Bad Example\n",
    "lock = Lock()\n",
    "lock.acquire()\n",
    "try:\n",
    "    print(\"Critical section\")\n",
    "finally:\n",
    "    lock.release()\n",
    "\n",
    "# Good Example\n",
    "with Lock():\n",
    "    print(\"Critical section\")\n"
   ]
  },
  {
   "cell_type": "markdown",
   "id": "1731419e",
   "metadata": {},
   "source": [
    "## 16. Write Modular and Testable Code"
   ]
  },
  {
   "cell_type": "code",
   "execution_count": null,
   "id": "785760e0",
   "metadata": {},
   "outputs": [],
   "source": [
    "\n",
    "# Bad Example: Hardcoded logic in script\n",
    "data = [1, 2, 3, 4, 5]\n",
    "total = 0\n",
    "for item in data:\n",
    "    total += item\n",
    "print(total)\n",
    "\n",
    "# Good Example: Modular function\n",
    "def calculate_sum(data):\n",
    "    return sum(data)\n",
    "\n",
    "# Easy to test\n",
    "print(calculate_sum([1, 2, 3, 4, 5]))\n"
   ]
  },
  {
   "cell_type": "markdown",
   "id": "166479df",
   "metadata": {},
   "source": [
    "## 17. Use Logging Instead of Print Statements"
   ]
  },
  {
   "cell_type": "code",
   "execution_count": null,
   "id": "9bf65d78",
   "metadata": {},
   "outputs": [],
   "source": [
    "\n",
    "# Bad Example\n",
    "print(\"Starting process...\")\n",
    "print(\"Error occurred!\")\n",
    "\n",
    "# Good Example\n",
    "import logging\n",
    "\n",
    "# Configure logging\n",
    "logging.basicConfig(level=logging.INFO, format='%(asctime)s - %(levelname)s - %(message)s')\n",
    "\n",
    "logging.info(\"Starting process...\")\n",
    "logging.error(\"Error occurred!\")\n"
   ]
  },
  {
   "cell_type": "markdown",
   "id": "9d34e9f0",
   "metadata": {},
   "source": [
    "## 18. Set Appropriate Logging Levels"
   ]
  },
  {
   "cell_type": "code",
   "execution_count": null,
   "id": "1d2983d0",
   "metadata": {},
   "outputs": [],
   "source": [
    "\n",
    "# Logging Levels:\n",
    "# DEBUG < INFO < WARNING < ERROR < CRITICAL\n",
    "\n",
    "import logging\n",
    "\n",
    "logging.basicConfig(level=logging.DEBUG)\n",
    "\n",
    "logging.debug(\"This is a debug message (useful for developers)\")\n",
    "logging.info(\"This is an info message (general info)\")\n",
    "logging.warning(\"This is a warning message (something may go wrong)\")\n",
    "logging.error(\"This is an error message (something went wrong)\")\n",
    "logging.critical(\"This is a critical message (system failure)\")\n"
   ]
  },
  {
   "cell_type": "markdown",
   "id": "8efa368e",
   "metadata": {},
   "source": [
    "## 19. Write Unit Tests to Validate Your Code"
   ]
  },
  {
   "cell_type": "code",
   "execution_count": null,
   "id": "5ec67ab9",
   "metadata": {},
   "outputs": [],
   "source": [
    "\n",
    "# test_calculator.py\n",
    "\n",
    "# Example function to be tested\n",
    "def add(a, b):\n",
    "    return a + b\n",
    "\n",
    "# Unit test using unittest module\n",
    "import unittest\n",
    "\n",
    "class TestCalculator(unittest.TestCase):\n",
    "    def test_add(self):\n",
    "        self.assertEqual(add(2, 3), 5)\n",
    "        self.assertEqual(add(-1, 1), 0)\n",
    "\n",
    "if __name__ == '__main__':\n",
    "    unittest.main(argv=[''], exit=False)\n"
   ]
  },
  {
   "cell_type": "markdown",
   "id": "ab3a08dc",
   "metadata": {},
   "source": [
    "## 20. Write Clean Python Classes with Dunder Methods"
   ]
  },
  {
   "cell_type": "code",
   "execution_count": null,
   "id": "6fe4011f",
   "metadata": {},
   "outputs": [],
   "source": [
    "\n",
    "class Person:\n",
    "    def __init__(self, name, age):\n",
    "        self.name = name\n",
    "        self.age = age\n",
    "\n",
    "    def __str__(self):\n",
    "        return f\"Person(name={self.name}, age={self.age})\"\n",
    "\n",
    "    def __repr__(self):\n",
    "        return f\"Person('{self.name}', {self.age})\"\n",
    "\n",
    "    def __eq__(self, other):\n",
    "        return self.name == other.name and self.age == other.age\n",
    "\n",
    "# Creating and comparing instances\n",
    "p1 = Person(\"Alice\", 30)\n",
    "p2 = Person(\"Alice\", 30)\n",
    "p3 = Person(\"Bob\", 25)\n",
    "\n",
    "print(p1)        # Uses __str__\n",
    "print(repr(p1))  # Uses __repr__\n",
    "print(p1 == p2)  # Uses __eq__\n",
    "print(p1 == p3)\n"
   ]
  },
  {
   "cell_type": "code",
   "execution_count": null,
   "id": "35142ac0",
   "metadata": {},
   "outputs": [],
   "source": []
  },
  {
   "cell_type": "markdown",
   "id": "ee66c011",
   "metadata": {},
   "source": [
    "## 21. Use Virtual Environments"
   ]
  },
  {
   "cell_type": "code",
   "execution_count": null,
   "id": "68d435a8",
   "metadata": {},
   "outputs": [],
   "source": [
    "\n",
    "# Run this in your terminal, not Python\n",
    "# Create a virtual environment\n",
    "python -m venv venv\n",
    "\n",
    "# Activate it (Linux/macOS)\n",
    "source venv/bin/activate\n",
    "\n",
    "# Activate it (Windows)\n",
    "venv\\Scripts\\activate\n"
   ]
  },
  {
   "cell_type": "markdown",
   "id": "743db2d5",
   "metadata": {},
   "source": [
    "## 22. Use requirements.txt for Dependencies"
   ]
  },
  {
   "cell_type": "code",
   "execution_count": null,
   "id": "0b44ca5d",
   "metadata": {},
   "outputs": [],
   "source": [
    "\n",
    "# Save installed packages\n",
    "pip freeze > requirements.txt\n",
    "\n",
    "# Install from requirements\n",
    "pip install -r requirements.txt\n"
   ]
  },
  {
   "cell_type": "markdown",
   "id": "c7712680",
   "metadata": {},
   "source": [
    "## 23. Use `__main__` Guard"
   ]
  },
  {
   "cell_type": "code",
   "execution_count": null,
   "id": "952a021a",
   "metadata": {},
   "outputs": [],
   "source": [
    "\n",
    "def main():\n",
    "    print(\"Script running directly.\")\n",
    "\n",
    "if __name__ == \"__main__\":\n",
    "    main()\n"
   ]
  },
  {
   "cell_type": "markdown",
   "id": "2213eb7e",
   "metadata": {},
   "source": [
    "## 24. Use Linting and Formatting Tools"
   ]
  },
  {
   "cell_type": "code",
   "execution_count": null,
   "id": "992c3062",
   "metadata": {},
   "outputs": [],
   "source": [
    "\n",
    "# Install and run linters and formatters\n",
    "# In terminal:\n",
    "# pip install flake8 black mypy\n",
    "\n",
    "# Lint your file\n",
    "flake8 your_script.py\n",
    "\n",
    "# Format your file\n",
    "black your_script.py\n",
    "\n",
    "# Type-check your file\n",
    "mypy your_script.py\n"
   ]
  },
  {
   "cell_type": "markdown",
   "id": "537ac360",
   "metadata": {},
   "source": [
    "## 25. Use `dataclass` for Clean Data Structures"
   ]
  },
  {
   "cell_type": "code",
   "execution_count": null,
   "id": "c12786ee",
   "metadata": {},
   "outputs": [],
   "source": [
    "\n",
    "from dataclasses import dataclass\n",
    "\n",
    "@dataclass\n",
    "class Product:\n",
    "    name: str\n",
    "    price: float\n",
    "\n",
    "item = Product(\"Pen\", 1.99)\n",
    "print(item)\n"
   ]
  },
  {
   "cell_type": "markdown",
   "id": "c31bfd8d",
   "metadata": {},
   "source": [
    "## 26. Use `pathlib` Over `os.path`"
   ]
  },
  {
   "cell_type": "code",
   "execution_count": null,
   "id": "9d42337a",
   "metadata": {},
   "outputs": [],
   "source": [
    "\n",
    "from pathlib import Path\n",
    "\n",
    "file_path = Path(\"sample.txt\")\n",
    "file_path.write_text(\"Hello World\")\n",
    "print(file_path.read_text())\n"
   ]
  },
  {
   "cell_type": "markdown",
   "id": "f3d37ada",
   "metadata": {},
   "source": [
    "## 27. Use Doctests to Document & Test"
   ]
  },
  {
   "cell_type": "code",
   "execution_count": null,
   "id": "a2dd8a41",
   "metadata": {},
   "outputs": [],
   "source": [
    "\n",
    "def square(x):\n",
    "    \"\"\"\n",
    "    Returns the square of a number.\n",
    "\n",
    "    >>> square(3)\n",
    "    9\n",
    "    \"\"\"\n",
    "    return x * x\n"
   ]
  },
  {
   "cell_type": "markdown",
   "id": "5c16d919",
   "metadata": {},
   "source": [
    "## 28. Handle Edge Cases Gracefully"
   ]
  },
  {
   "cell_type": "code",
   "execution_count": null,
   "id": "dbaf8bc4",
   "metadata": {},
   "outputs": [],
   "source": [
    "\n",
    "def get_first_element(lst):\n",
    "    if lst:\n",
    "        return lst[0]\n",
    "    return None\n"
   ]
  },
  {
   "cell_type": "markdown",
   "id": "9d4881dc",
   "metadata": {},
   "source": [
    "## 29. Avoid Global Variables"
   ]
  },
  {
   "cell_type": "code",
   "execution_count": null,
   "id": "95f306cf",
   "metadata": {},
   "outputs": [],
   "source": [
    "\n",
    "# Bad Practice\n",
    "counter = 0\n",
    "\n",
    "def increment():\n",
    "    global counter\n",
    "    counter += 1\n",
    "\n",
    "# Good Practice\n",
    "def increment(counter):\n",
    "    return counter + 1\n"
   ]
  },
  {
   "cell_type": "markdown",
   "id": "971467d2",
   "metadata": {},
   "source": [
    "## 30. Organize Code into Modules and Packages"
   ]
  },
  {
   "cell_type": "code",
   "execution_count": null,
   "id": "27452e12",
   "metadata": {},
   "outputs": [],
   "source": [
    "\n",
    "# Directory structure example:\n",
    "# my_project/\n",
    "# ├── main.py\n",
    "# ├── utils.py\n",
    "# └── config.py\n",
    "\n",
    "# utils.py\n",
    "def greet(name):\n",
    "    return f\"Hello, {name}!\"\n"
   ]
  },
  {
   "cell_type": "markdown",
   "id": "501fb66d",
   "metadata": {},
   "source": [
    "## 31. Use `itertools` and `functools` for Functional Patterns"
   ]
  },
  {
   "cell_type": "code",
   "execution_count": null,
   "id": "cccdf8de",
   "metadata": {},
   "outputs": [],
   "source": [
    "\n",
    "from itertools import combinations\n",
    "print(list(combinations([1, 2, 3], 2)))\n",
    "\n",
    "from functools import reduce\n",
    "print(reduce(lambda x, y: x + y, [1, 2, 3, 4]))\n"
   ]
  },
  {
   "cell_type": "markdown",
   "id": "73b84924",
   "metadata": {},
   "source": [
    "## 32. Use Proper Docstrings and Type Hints"
   ]
  },
  {
   "cell_type": "code",
   "execution_count": null,
   "id": "0ce85e8a",
   "metadata": {},
   "outputs": [],
   "source": [
    "\n",
    "def greet(name: str) -> str:\n",
    "    \"\"\"Return a greeting for the given name.\"\"\"\n",
    "    return f\"Hello, {name}!\"\n"
   ]
  },
  {
   "cell_type": "markdown",
   "id": "5e822cac",
   "metadata": {},
   "source": [
    "## 33. Use `assert` for Sanity Checks"
   ]
  },
  {
   "cell_type": "code",
   "execution_count": null,
   "id": "6398c77d",
   "metadata": {},
   "outputs": [],
   "source": [
    "\n",
    "def divide(a, b):\n",
    "    assert b != 0, \"Division by zero\"\n",
    "    return a / b\n"
   ]
  },
  {
   "cell_type": "markdown",
   "id": "6b0d908f",
   "metadata": {},
   "source": [
    "## 34. Use `.env` Files for Secrets"
   ]
  },
  {
   "cell_type": "code",
   "execution_count": null,
   "id": "6b7a4a8c",
   "metadata": {},
   "outputs": [],
   "source": [
    "\n",
    "# .env file (create separately)\n",
    "# API_KEY=abc123\n",
    "\n",
    "# Load using dotenv\n",
    "from dotenv import load_dotenv\n",
    "import os\n",
    "\n",
    "load_dotenv()\n",
    "api_key = os.getenv(\"API_KEY\")\n",
    "print(api_key)\n"
   ]
  }
 ],
 "metadata": {
  "kernelspec": {
   "display_name": "Python 3",
   "language": "python",
   "name": "python3"
  },
  "language_info": {
   "codemirror_mode": {
    "name": "ipython",
    "version": 3
   },
   "file_extension": ".py",
   "mimetype": "text/x-python",
   "name": "python",
   "nbconvert_exporter": "python",
   "pygments_lexer": "ipython3",
   "version": "3.12.5"
  }
 },
 "nbformat": 4,
 "nbformat_minor": 5
}
